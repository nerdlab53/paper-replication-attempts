{
 "cells": [
  {
   "cell_type": "code",
   "execution_count": 20,
   "metadata": {},
   "outputs": [],
   "source": [
    "import torch\n",
    "from torch import nn\n",
    "import torchinfo"
   ]
  },
  {
   "cell_type": "code",
   "execution_count": 21,
   "metadata": {},
   "outputs": [],
   "source": [
    "dummy_image = nn.Parameter(torch.randn(1, 3, 224, 224))"
   ]
  },
  {
   "cell_type": "code",
   "execution_count": 22,
   "metadata": {},
   "outputs": [],
   "source": [
    "class PatchEmbedding(nn.Module):\n",
    "    \"\"\"Takes in a 2D image and creates a 1D sequence learnable embedding vector\n",
    "\n",
    "        in_channels (int) : number of color channels in the image // default : 2\n",
    "        out_channels (int) : size of patches of images // default : 16\n",
    "        embedding_dim (int) : size of embedding to turn every image into // default : 16*16*3\n",
    "    \"\"\"\n",
    "    def __init__(self,\n",
    "                 in_channels : int=3,\n",
    "                 patch_size : int=16,\n",
    "                 embedding_dim : int=768):\n",
    "        super().__init__()\n",
    "        # 1. Conv layer to turn the image into patches\n",
    "        self.patch_size = patch_size\n",
    "\n",
    "        self.conv_patch_layer = nn.Conv2d(in_channels=in_channels,\n",
    "                                          out_channels=embedding_dim,\n",
    "                                          kernel_size=patch_size,\n",
    "                                          stride=patch_size,\n",
    "                                          padding=0\n",
    "                                        )\n",
    "        \n",
    "        # 2. Flatten to make a 1D representation\n",
    "        self.flatten = nn.Flatten(start_dim=2,\n",
    "                                  end_dim=3)\n",
    "        \n",
    "    def forward(self, x):\n",
    "\n",
    "        assert x.shape[-1] % self.patch_size == 0, f\"Input image must be divisible by patch size, patch_size -> {self.patch_size} and input image dims -> {x.shape[-1]}\"\n",
    "        # Generate patches\n",
    "        patched = self.conv_patch_layer(x)\n",
    "        print(f'After creating patches : {patched.shape}')\n",
    "\n",
    "        # Generate flattened 1D representation\n",
    "        flattened = self.flatten(patched)\n",
    "        print(f'After flattening : {flattened.shape}')\n",
    "\n",
    "        return flattened.permute(0, 2, 1)\n",
    "        "
   ]
  },
  {
   "cell_type": "code",
   "execution_count": 23,
   "metadata": {},
   "outputs": [
    {
     "name": "stdout",
     "output_type": "stream",
     "text": [
      "After creating patches : torch.Size([1, 768, 14, 14])\n",
      "After flattening : torch.Size([1, 768, 196])\n",
      "After patching and flattening size : torch.Size([1, 196, 768]) -> (batch, num_patches, embedding_dim)\n"
     ]
    }
   ],
   "source": [
    "patchembedding = PatchEmbedding(in_channels=3,\n",
    "                                patch_size=16,\n",
    "                                embedding_dim=16*16*3)\n",
    "patched = patchembedding(dummy_image)\n",
    "print(f\"After patching and flattening size : {patched.shape} -> (batch, num_patches, embedding_dim)\")"
   ]
  },
  {
   "cell_type": "code",
   "execution_count": 24,
   "metadata": {},
   "outputs": [],
   "source": [
    "# Putting it all together and creating ViT\n",
    "\n",
    "\n",
    "class ViT(nn.Module):\n",
    "  def __init__(self,\n",
    "               img_size=224,\n",
    "               num_channels=3,\n",
    "               patch_size=16,\n",
    "               embedding_dim=768,\n",
    "               dropout=0.1,\n",
    "               mlp_size=3072,\n",
    "               num_transformer_layers=12,\n",
    "               num_heads=12,\n",
    "               num_classes=1000):\n",
    "    super().__init__()\n",
    "\n",
    "    # Assert image size\n",
    "\n",
    "    assert img_size % patch_size == 0, \"Image size must be divisible by patch size.\"\n",
    "    self.patch_embedding = PatchEmbedding(in_channels=num_channels,\n",
    "                                          patch_size=patch_size,\n",
    "                                          embedding_dim=embedding_dim)\n",
    "\n",
    "    self.class_token = nn.Parameter(torch.randn(1, 1, embedding_dim),\n",
    "                                    requires_grad=True)\n",
    "\n",
    "    num_patches = (img_size * img_size) // patch_size**2  # N = H*W/P^2\n",
    "    self.positional_embedding = nn.Parameter(torch.randn(1, num_patches+1, embedding_dim)) # Positional embeddings are used to keep track of where the patches appear in a sequence\n",
    "\n",
    "    \n",
    "    self.embedding_dropout = nn.Dropout(p=dropout)\n",
    "\n",
    "    self.transformer_encoder= nn.TransformerEncoder(encoder_layer=nn.TransformerEncoderLayer(d_model=embedding_dim,\n",
    "                                                    nhead=num_heads,\n",
    "                                                    dim_feedforward=mlp_size,\n",
    "                                                    activation='gelu',\n",
    "                                                    batch_first=True,\n",
    "                                                    norm_first=True,)\n",
    "                                                    ,num_layers=num_transformer_layers)\n",
    "    \n",
    "    self.mlp_head = nn.Sequential(\n",
    "        nn.LayerNorm(normalized_shape=embedding_dim),\n",
    "        nn.Linear(in_features=embedding_dim,\n",
    "                  out_features=num_classes)\n",
    "    )\n",
    "\n",
    "  def forward(self, x):\n",
    "    \n",
    "    batch_size = x.shape[0]\n",
    "\n",
    "    \n",
    "    x = self.patch_embedding(x)\n",
    "\n",
    "    \n",
    "    class_token = self.class_token.expand(batch_size, -1, -1) \n",
    "\n",
    "    \n",
    "    x = torch.cat((class_token, x), dim=1)\n",
    "\n",
    "   \n",
    "    x = self.positional_embedding + x\n",
    "\n",
    "   \n",
    "    x = self.embedding_dropout(x)\n",
    "\n",
    "   \n",
    "    x = self.transformer_encoder(x)\n",
    "\n",
    "   \n",
    "    x = self.mlp_head(x[:, 0])\n",
    "\n",
    "    return x"
   ]
  },
  {
   "cell_type": "code",
   "execution_count": 25,
   "metadata": {},
   "outputs": [
    {
     "name": "stdout",
     "output_type": "stream",
     "text": [
      "After creating patches : torch.Size([1, 768, 14, 14])\n",
      "After flattening : torch.Size([1, 768, 196])\n"
     ]
    },
    {
     "data": {
      "text/plain": [
       "tensor([[-1.2423, -0.9493, -0.1789]], grad_fn=<AddmmBackward0>)"
      ]
     },
     "execution_count": 25,
     "metadata": {},
     "output_type": "execute_result"
    }
   ],
   "source": [
    "batch_size = 32\n",
    "num_classes = 1000\n",
    "vit = ViT(num_classes=3)\n",
    "img = nn.Parameter(torch.randn(1, 3, 224, 224))\n",
    "vit(dummy_image)"
   ]
  }
 ],
 "metadata": {
  "kernelspec": {
   "display_name": "torch2",
   "language": "python",
   "name": "torch2"
  },
  "language_info": {
   "codemirror_mode": {
    "name": "ipython",
    "version": 3
   },
   "file_extension": ".py",
   "mimetype": "text/x-python",
   "name": "python",
   "nbconvert_exporter": "python",
   "pygments_lexer": "ipython3",
   "version": "3.11.4"
  }
 },
 "nbformat": 4,
 "nbformat_minor": 2
}
